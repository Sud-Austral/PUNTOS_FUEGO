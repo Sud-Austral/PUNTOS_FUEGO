{
 "cells": [
  {
   "cell_type": "code",
   "execution_count": 2,
   "metadata": {},
   "outputs": [],
   "source": [
    "import Servidor\n",
    "import time"
   ]
  },
  {
   "cell_type": "code",
   "execution_count": null,
   "metadata": {},
   "outputs": [
    {
     "name": "stdout",
     "output_type": "stream",
     "text": [
      "14:02:22\n",
      "Comenzamos con las fechas:\n",
      "Inicial: 2021-12-12 y Final: 2021-12-13\n",
      "0\n",
      "1\n",
      "1\n",
      "0\n",
      "1\n",
      "1\n",
      "0\n",
      "0\n",
      "0\n",
      "0\n",
      "0\n",
      "0\n",
      "0\n",
      "0\n",
      "0\n",
      "0\n",
      "Terminamos con las fechas\n",
      "14:05:16\n",
      "14:05:16\n",
      "Comenzamos con las fechas:\n",
      "Inicial: 2021-12-13 y Final: 2021-12-14\n",
      "0\n",
      "0\n",
      "0\n",
      "0\n",
      "1\n",
      "1\n",
      "0\n",
      "5\n",
      "1\n",
      "0\n",
      "0\n",
      "0\n",
      "1\n",
      "0\n",
      "0\n",
      "0\n",
      "Terminamos con las fechas\n",
      "14:08:17\n",
      "14:08:17\n",
      "Comenzamos con las fechas:\n",
      "Inicial: 2021-12-14 y Final: 2021-12-15\n",
      "Image.projection: Parameter 'image' is required.\n",
      "Repositorio actualizado =)\n"
     ]
    }
   ],
   "source": [
    "while True:\n",
    "    Servidor.SaveConsolidado()\n",
    "    Servidor.guardarRepositorio()\n",
    "    time.sleep(86000)"
   ]
  },
  {
   "cell_type": "code",
   "execution_count": null,
   "metadata": {},
   "outputs": [],
   "source": []
  }
 ],
 "metadata": {
  "kernelspec": {
   "display_name": "Python 3",
   "language": "python",
   "name": "python3"
  },
  "language_info": {
   "codemirror_mode": {
    "name": "ipython",
    "version": 3
   },
   "file_extension": ".py",
   "mimetype": "text/x-python",
   "name": "python",
   "nbconvert_exporter": "python",
   "pygments_lexer": "ipython3",
   "version": "3.7.6"
  }
 },
 "nbformat": 4,
 "nbformat_minor": 4
}
