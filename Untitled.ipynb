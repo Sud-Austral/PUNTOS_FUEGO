{
 "cells": [
  {
   "cell_type": "code",
   "execution_count": 1,
   "metadata": {},
   "outputs": [],
   "source": [
    "import Servidor\n",
    "import time"
   ]
  },
  {
   "cell_type": "code",
   "execution_count": null,
   "metadata": {},
   "outputs": [
    {
     "name": "stdout",
     "output_type": "stream",
     "text": [
      "20:41:27\n",
      "Comenzamos con las fechas:\n",
      "Inicial: 2022-01-21 y Final: 2022-01-22\n",
      "0\n",
      "0\n",
      "1\n",
      "1\n",
      "1\n",
      "3\n",
      "3\n",
      "5\n",
      "4\n",
      "0\n",
      "0\n",
      "0\n",
      "0\n",
      "0\n",
      "0\n",
      "1\n",
      "Terminamos con las fechas\n",
      "20:44:06\n",
      "20:44:06\n",
      "Comenzamos con las fechas:\n",
      "Inicial: 2022-01-22 y Final: 2022-01-23\n",
      "0\n",
      "1\n",
      "0\n",
      "0\n",
      "1\n",
      "1\n",
      "0\n",
      "0\n",
      "0\n",
      "0\n",
      "0\n",
      "0\n",
      "0\n",
      "0\n",
      "0\n",
      "0\n",
      "Terminamos con las fechas\n",
      "20:49:50\n",
      "20:49:50\n",
      "Comenzamos con las fechas:\n",
      "Inicial: 2022-01-23 y Final: 2022-01-24\n",
      "Image.projection: Parameter 'image' is required.\n",
      "Repositorio actualizado =)\n",
      "20:43:48\n",
      "Comenzamos con las fechas:\n",
      "Inicial: 2022-01-22 y Final: 2022-01-23\n",
      "0\n",
      "1\n",
      "0\n",
      "0\n",
      "1\n",
      "1\n",
      "0\n",
      "0\n",
      "0\n",
      "0\n",
      "0\n",
      "0\n",
      "0\n",
      "0\n",
      "0\n",
      "0\n",
      "Terminamos con las fechas\n",
      "21:01:52\n",
      "21:01:52\n",
      "Comenzamos con las fechas:\n",
      "Inicial: 2022-01-23 y Final: 2022-01-24\n",
      "0\n",
      "0\n",
      "0\n",
      "0\n",
      "0\n",
      "3\n",
      "1\n",
      "1\n",
      "0\n",
      "0\n",
      "0\n",
      "0\n",
      "0\n",
      "0\n",
      "0\n"
     ]
    }
   ],
   "source": [
    "while True:\n",
    "    Servidor.SaveConsolidado()\n",
    "    Servidor.guardarRepositorio()\n",
    "    time.sleep(86000)"
   ]
  },
  {
   "cell_type": "code",
   "execution_count": null,
   "metadata": {},
   "outputs": [],
   "source": []
  }
 ],
 "metadata": {
  "kernelspec": {
   "display_name": "Python 3",
   "language": "python",
   "name": "python3"
  },
  "language_info": {
   "codemirror_mode": {
    "name": "ipython",
    "version": 3
   },
   "file_extension": ".py",
   "mimetype": "text/x-python",
   "name": "python",
   "nbconvert_exporter": "python",
   "pygments_lexer": "ipython3",
   "version": "3.7.6"
  }
 },
 "nbformat": 4,
 "nbformat_minor": 4
}
